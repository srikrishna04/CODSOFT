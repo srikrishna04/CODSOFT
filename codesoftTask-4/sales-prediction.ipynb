{
 "cells": [
  {
   "cell_type": "markdown",
   "id": "4cb39c03",
   "metadata": {},
   "source": [
    "# 1.Importing Libraries"
   ]
  },
  {
   "cell_type": "code",
   "execution_count": 1,
   "id": "af54dbb0",
   "metadata": {},
   "outputs": [],
   "source": [
    "import numpy as np \n",
    "import pandas as pd\n",
    "import matplotlib.pyplot as plt \n",
    "import seaborn as sns\n",
    "from sklearn.model_selection import train_test_split\n",
    "from sklearn.linear_model import LinearRegression\n",
    "from sklearn.metrics import mean_squared_error, r2_score\n",
    "from sklearn.model_selection import train_test_split"
   ]
  },
  {
   "cell_type": "markdown",
   "id": "ea385c59",
   "metadata": {},
   "source": [
    "# 2.Reading Dataset"
   ]
  },
  {
   "cell_type": "code",
   "execution_count": 2,
   "id": "4b2e3b48",
   "metadata": {
    "execution": {
     "iopub.execute_input": "2023-08-08T14:45:23.447244Z",
     "iopub.status.busy": "2023-08-08T14:45:23.446558Z",
     "iopub.status.idle": "2023-08-08T14:45:23.465449Z",
     "shell.execute_reply": "2023-08-08T14:45:23.464493Z"
    },
    "papermill": {
     "duration": 0.030163,
     "end_time": "2023-08-08T14:45:23.467830",
     "exception": false,
     "start_time": "2023-08-08T14:45:23.437667",
     "status": "completed"
    },
    "tags": []
   },
   "outputs": [],
   "source": [
    "data = pd.read_csv(\"./advertising.csv\")"
   ]
  },
  {
   "cell_type": "markdown",
   "id": "bf2408b8",
   "metadata": {},
   "source": [
    "# 3.Analysing the Dataset"
   ]
  },
  {
   "cell_type": "code",
   "execution_count": 3,
   "id": "d067f480",
   "metadata": {
    "execution": {
     "iopub.execute_input": "2023-08-08T14:45:23.486025Z",
     "iopub.status.busy": "2023-08-08T14:45:23.485597Z",
     "iopub.status.idle": "2023-08-08T14:45:23.506450Z",
     "shell.execute_reply": "2023-08-08T14:45:23.505454Z"
    },
    "papermill": {
     "duration": 0.032668,
     "end_time": "2023-08-08T14:45:23.508934",
     "exception": false,
     "start_time": "2023-08-08T14:45:23.476266",
     "status": "completed"
    },
    "tags": []
   },
   "outputs": [
    {
     "data": {
      "text/html": [
       "<div>\n",
       "<style scoped>\n",
       "    .dataframe tbody tr th:only-of-type {\n",
       "        vertical-align: middle;\n",
       "    }\n",
       "\n",
       "    .dataframe tbody tr th {\n",
       "        vertical-align: top;\n",
       "    }\n",
       "\n",
       "    .dataframe thead th {\n",
       "        text-align: right;\n",
       "    }\n",
       "</style>\n",
       "<table border=\"1\" class=\"dataframe\">\n",
       "  <thead>\n",
       "    <tr style=\"text-align: right;\">\n",
       "      <th></th>\n",
       "      <th>TV</th>\n",
       "      <th>Radio</th>\n",
       "      <th>Newspaper</th>\n",
       "      <th>Sales</th>\n",
       "    </tr>\n",
       "  </thead>\n",
       "  <tbody>\n",
       "    <tr>\n",
       "      <th>0</th>\n",
       "      <td>230.1</td>\n",
       "      <td>37.8</td>\n",
       "      <td>69.2</td>\n",
       "      <td>22.1</td>\n",
       "    </tr>\n",
       "    <tr>\n",
       "      <th>1</th>\n",
       "      <td>44.5</td>\n",
       "      <td>39.3</td>\n",
       "      <td>45.1</td>\n",
       "      <td>10.4</td>\n",
       "    </tr>\n",
       "    <tr>\n",
       "      <th>2</th>\n",
       "      <td>17.2</td>\n",
       "      <td>45.9</td>\n",
       "      <td>69.3</td>\n",
       "      <td>12.0</td>\n",
       "    </tr>\n",
       "    <tr>\n",
       "      <th>3</th>\n",
       "      <td>151.5</td>\n",
       "      <td>41.3</td>\n",
       "      <td>58.5</td>\n",
       "      <td>16.5</td>\n",
       "    </tr>\n",
       "    <tr>\n",
       "      <th>4</th>\n",
       "      <td>180.8</td>\n",
       "      <td>10.8</td>\n",
       "      <td>58.4</td>\n",
       "      <td>17.9</td>\n",
       "    </tr>\n",
       "  </tbody>\n",
       "</table>\n",
       "</div>"
      ],
      "text/plain": [
       "      TV  Radio  Newspaper  Sales\n",
       "0  230.1   37.8       69.2   22.1\n",
       "1   44.5   39.3       45.1   10.4\n",
       "2   17.2   45.9       69.3   12.0\n",
       "3  151.5   41.3       58.5   16.5\n",
       "4  180.8   10.8       58.4   17.9"
      ]
     },
     "execution_count": 3,
     "metadata": {},
     "output_type": "execute_result"
    }
   ],
   "source": [
    "data.head()"
   ]
  },
  {
   "cell_type": "code",
   "execution_count": 4,
   "id": "67f0ab99",
   "metadata": {
    "execution": {
     "iopub.execute_input": "2023-08-08T14:45:23.527768Z",
     "iopub.status.busy": "2023-08-08T14:45:23.527389Z",
     "iopub.status.idle": "2023-08-08T14:45:23.535499Z",
     "shell.execute_reply": "2023-08-08T14:45:23.534358Z"
    },
    "papermill": {
     "duration": 0.019298,
     "end_time": "2023-08-08T14:45:23.537607",
     "exception": false,
     "start_time": "2023-08-08T14:45:23.518309",
     "status": "completed"
    },
    "tags": []
   },
   "outputs": [
    {
     "data": {
      "text/plain": [
       "TV           float64\n",
       "Radio        float64\n",
       "Newspaper    float64\n",
       "Sales        float64\n",
       "dtype: object"
      ]
     },
     "execution_count": 4,
     "metadata": {},
     "output_type": "execute_result"
    }
   ],
   "source": [
    "data.dtypes"
   ]
  },
  {
   "cell_type": "code",
   "execution_count": 5,
   "id": "f92f74df",
   "metadata": {
    "execution": {
     "iopub.execute_input": "2023-08-08T14:45:23.556380Z",
     "iopub.status.busy": "2023-08-08T14:45:23.556018Z",
     "iopub.status.idle": "2023-08-08T14:45:23.583538Z",
     "shell.execute_reply": "2023-08-08T14:45:23.582420Z"
    },
    "papermill": {
     "duration": 0.040124,
     "end_time": "2023-08-08T14:45:23.586167",
     "exception": false,
     "start_time": "2023-08-08T14:45:23.546043",
     "status": "completed"
    },
    "tags": []
   },
   "outputs": [
    {
     "data": {
      "text/html": [
       "<div>\n",
       "<style scoped>\n",
       "    .dataframe tbody tr th:only-of-type {\n",
       "        vertical-align: middle;\n",
       "    }\n",
       "\n",
       "    .dataframe tbody tr th {\n",
       "        vertical-align: top;\n",
       "    }\n",
       "\n",
       "    .dataframe thead th {\n",
       "        text-align: right;\n",
       "    }\n",
       "</style>\n",
       "<table border=\"1\" class=\"dataframe\">\n",
       "  <thead>\n",
       "    <tr style=\"text-align: right;\">\n",
       "      <th></th>\n",
       "      <th>TV</th>\n",
       "      <th>Radio</th>\n",
       "      <th>Newspaper</th>\n",
       "      <th>Sales</th>\n",
       "    </tr>\n",
       "  </thead>\n",
       "  <tbody>\n",
       "    <tr>\n",
       "      <th>count</th>\n",
       "      <td>200.000000</td>\n",
       "      <td>200.000000</td>\n",
       "      <td>200.000000</td>\n",
       "      <td>200.000000</td>\n",
       "    </tr>\n",
       "    <tr>\n",
       "      <th>mean</th>\n",
       "      <td>147.042500</td>\n",
       "      <td>23.264000</td>\n",
       "      <td>30.554000</td>\n",
       "      <td>15.130500</td>\n",
       "    </tr>\n",
       "    <tr>\n",
       "      <th>std</th>\n",
       "      <td>85.854236</td>\n",
       "      <td>14.846809</td>\n",
       "      <td>21.778621</td>\n",
       "      <td>5.283892</td>\n",
       "    </tr>\n",
       "    <tr>\n",
       "      <th>min</th>\n",
       "      <td>0.700000</td>\n",
       "      <td>0.000000</td>\n",
       "      <td>0.300000</td>\n",
       "      <td>1.600000</td>\n",
       "    </tr>\n",
       "    <tr>\n",
       "      <th>25%</th>\n",
       "      <td>74.375000</td>\n",
       "      <td>9.975000</td>\n",
       "      <td>12.750000</td>\n",
       "      <td>11.000000</td>\n",
       "    </tr>\n",
       "    <tr>\n",
       "      <th>50%</th>\n",
       "      <td>149.750000</td>\n",
       "      <td>22.900000</td>\n",
       "      <td>25.750000</td>\n",
       "      <td>16.000000</td>\n",
       "    </tr>\n",
       "    <tr>\n",
       "      <th>75%</th>\n",
       "      <td>218.825000</td>\n",
       "      <td>36.525000</td>\n",
       "      <td>45.100000</td>\n",
       "      <td>19.050000</td>\n",
       "    </tr>\n",
       "    <tr>\n",
       "      <th>max</th>\n",
       "      <td>296.400000</td>\n",
       "      <td>49.600000</td>\n",
       "      <td>114.000000</td>\n",
       "      <td>27.000000</td>\n",
       "    </tr>\n",
       "  </tbody>\n",
       "</table>\n",
       "</div>"
      ],
      "text/plain": [
       "               TV       Radio   Newspaper       Sales\n",
       "count  200.000000  200.000000  200.000000  200.000000\n",
       "mean   147.042500   23.264000   30.554000   15.130500\n",
       "std     85.854236   14.846809   21.778621    5.283892\n",
       "min      0.700000    0.000000    0.300000    1.600000\n",
       "25%     74.375000    9.975000   12.750000   11.000000\n",
       "50%    149.750000   22.900000   25.750000   16.000000\n",
       "75%    218.825000   36.525000   45.100000   19.050000\n",
       "max    296.400000   49.600000  114.000000   27.000000"
      ]
     },
     "execution_count": 5,
     "metadata": {},
     "output_type": "execute_result"
    }
   ],
   "source": [
    "data.describe()"
   ]
  },
  {
   "cell_type": "code",
   "execution_count": 6,
   "id": "56b86876",
   "metadata": {
    "execution": {
     "iopub.execute_input": "2023-08-08T14:45:23.604674Z",
     "iopub.status.busy": "2023-08-08T14:45:23.604285Z",
     "iopub.status.idle": "2023-08-08T14:45:23.612990Z",
     "shell.execute_reply": "2023-08-08T14:45:23.611771Z"
    },
    "papermill": {
     "duration": 0.020901,
     "end_time": "2023-08-08T14:45:23.615446",
     "exception": false,
     "start_time": "2023-08-08T14:45:23.594545",
     "status": "completed"
    },
    "tags": []
   },
   "outputs": [
    {
     "data": {
      "text/plain": [
       "TV           0\n",
       "Radio        0\n",
       "Newspaper    0\n",
       "Sales        0\n",
       "dtype: int64"
      ]
     },
     "execution_count": 6,
     "metadata": {},
     "output_type": "execute_result"
    }
   ],
   "source": [
    "data.isnull().sum()"
   ]
  },
  {
   "cell_type": "code",
   "execution_count": 7,
   "id": "0768b9bb",
   "metadata": {
    "execution": {
     "iopub.execute_input": "2023-08-08T14:45:23.635454Z",
     "iopub.status.busy": "2023-08-08T14:45:23.635074Z",
     "iopub.status.idle": "2023-08-08T14:45:23.643391Z",
     "shell.execute_reply": "2023-08-08T14:45:23.642354Z"
    },
    "papermill": {
     "duration": 0.021504,
     "end_time": "2023-08-08T14:45:23.645707",
     "exception": false,
     "start_time": "2023-08-08T14:45:23.624203",
     "status": "completed"
    },
    "tags": []
   },
   "outputs": [
    {
     "data": {
      "text/plain": [
       "TV           0\n",
       "Radio        1\n",
       "Newspaper    0\n",
       "Sales        0\n",
       "dtype: int64"
      ]
     },
     "execution_count": 7,
     "metadata": {},
     "output_type": "execute_result"
    }
   ],
   "source": [
    "(data == 0).sum(axis=0)"
   ]
  },
  {
   "cell_type": "markdown",
   "id": "b56e5e22",
   "metadata": {
    "papermill": {
     "duration": 0.008153,
     "end_time": "2023-08-08T14:45:23.662343",
     "exception": false,
     "start_time": "2023-08-08T14:45:23.654190",
     "status": "completed"
    },
    "tags": []
   },
   "source": [
    "the minimum value of radio is zero"
   ]
  },
  {
   "cell_type": "markdown",
   "id": "07b56bab",
   "metadata": {},
   "source": [
    "# 4.Visualizing the data"
   ]
  },
  {
   "cell_type": "code",
   "execution_count": 8,
   "id": "ce884613",
   "metadata": {},
   "outputs": [
    {
     "data": {
      "text/plain": [
       "<Axes: >"
      ]
     },
     "execution_count": 8,
     "metadata": {},
     "output_type": "execute_result"
    },
    {
     "data": {
      "image/png": "[encoded data removed]",
      "text/plain": [
       "<Figure size 640x480 with 1 Axes>"
      ]
     },
     "metadata": {},
     "output_type": "display_data"
    }
   ],
   "source": [
    "sns.boxplot(data)"
   ]
  },
  {
   "cell_type": "code",
   "execution_count": 9,
   "id": "0e7c54d3",
   "metadata": {},
   "outputs": [
    {
     "data": {
      "text/plain": [
       "<seaborn.axisgrid.PairGrid at 0x287fa22fa90>"
      ]
     },
     "execution_count": 9,
     "metadata": {},
     "output_type": "execute_result"
    },
    {
     "data": {
      "image/png": "[encoded data removed]",
      "text/plain": [
       "<Figure size 1000x250 with 5 Axes>"
      ]
     },
     "metadata": {},
     "output_type": "display_data"
    }
   ],
   "source": [
    "sns.pairplot(data=data,x_vars=['TV', 'Radio', 'Newspaper', 'Sales'] ,y_vars='Sales')\n"
   ]
  },
  {
   "cell_type": "code",
   "execution_count": null,
   "id": "2175b7fd",
   "metadata": {},
   "outputs": [],
   "source": []
  },
  {
   "cell_type": "markdown",
   "id": "89483398",
   "metadata": {
    "papermill": {
     "duration": 0.008138,
     "end_time": "2023-08-08T14:45:23.678823",
     "exception": false,
     "start_time": "2023-08-08T14:45:23.670685",
     "status": "completed"
    },
    "tags": []
   },
   "source": [
    "# 5.splitting the Data"
   ]
  },
  {
   "cell_type": "code",
   "execution_count": 10,
   "id": "82172504",
   "metadata": {
    "execution": {
     "iopub.execute_input": "2023-08-08T14:45:23.697476Z",
     "iopub.status.busy": "2023-08-08T14:45:23.697107Z",
     "iopub.status.idle": "2023-08-08T14:45:24.681286Z",
     "shell.execute_reply": "2023-08-08T14:45:24.680166Z"
    },
    "papermill": {
     "duration": 0.996639,
     "end_time": "2023-08-08T14:45:24.683854",
     "exception": false,
     "start_time": "2023-08-08T14:45:23.687215",
     "status": "completed"
    },
    "tags": []
   },
   "outputs": [],
   "source": [
    "X = data[['TV']].values\n",
    "y = data.Sales   "
   ]
  },
  {
   "cell_type": "code",
   "execution_count": 11,
   "id": "abfe00ad",
   "metadata": {
    "execution": {
     "iopub.execute_input": "2023-08-08T14:45:24.915182Z",
     "iopub.status.busy": "2023-08-08T14:45:24.914775Z",
     "iopub.status.idle": "2023-08-08T14:45:24.921861Z",
     "shell.execute_reply": "2023-08-08T14:45:24.920642Z"
    },
    "papermill": {
     "duration": 0.01905,
     "end_time": "2023-08-08T14:45:24.924113",
     "exception": false,
     "start_time": "2023-08-08T14:45:24.905063",
     "status": "completed"
    },
    "tags": []
   },
   "outputs": [],
   "source": [
    "X_train, X_test, y_train, y_test = train_test_split(X, y, test_size= 0.2, random_state= 42)\n"
   ]
  },
  {
   "cell_type": "code",
   "execution_count": 12,
   "id": "0281e858",
   "metadata": {},
   "outputs": [
    {
     "data": {
      "text/plain": [
       "79     11.0\n",
       "197    14.8\n",
       "38     10.1\n",
       "24      9.7\n",
       "122    16.6\n",
       "Name: Sales, dtype: float64"
      ]
     },
     "execution_count": 12,
     "metadata": {},
     "output_type": "execute_result"
    }
   ],
   "source": [
    "y_train.head()"
   ]
  },
  {
   "cell_type": "code",
   "execution_count": 13,
   "id": "cfc0fa09",
   "metadata": {},
   "outputs": [
    {
     "data": {
      "text/plain": [
       "95     16.9\n",
       "15     22.4\n",
       "30     21.4\n",
       "158     7.3\n",
       "128    24.7\n",
       "Name: Sales, dtype: float64"
      ]
     },
     "execution_count": 13,
     "metadata": {},
     "output_type": "execute_result"
    }
   ],
   "source": [
    "y_test.head()"
   ]
  },
  {
   "cell_type": "markdown",
   "id": "74a31d67",
   "metadata": {},
   "source": [
    "# 6.Building model"
   ]
  },
  {
   "cell_type": "code",
   "execution_count": 14,
   "id": "16bc74ec",
   "metadata": {
    "execution": {
     "iopub.execute_input": "2023-08-08T14:45:24.943156Z",
     "iopub.status.busy": "2023-08-08T14:45:24.942389Z",
     "iopub.status.idle": "2023-08-08T14:45:24.966791Z",
     "shell.execute_reply": "2023-08-08T14:45:24.965954Z"
    },
    "papermill": {
     "duration": 0.03654,
     "end_time": "2023-08-08T14:45:24.969256",
     "exception": false,
     "start_time": "2023-08-08T14:45:24.932716",
     "status": "completed"
    },
    "tags": []
   },
   "outputs": [
    {
     "data": {
      "text/html": [
       "<style>#sk-container-id-1 {color: black;}#sk-container-id-1 pre{padding: 0;}#sk-container-id-1 div.sk-toggleable {background-color: white;}#sk-container-id-1 label.sk-toggleable__label {cursor: pointer;display: block;width: 100%;margin-bottom: 0;padding: 0.3em;box-sizing: border-box;text-align: center;}#sk-container-id-1 label.sk-toggleable__label-arrow:before {content: \"▸\";float: left;margin-right: 0.25em;color: #696969;}#sk-container-id-1 label.sk-toggleable__label-arrow:hover:before {color: black;}#sk-container-id-1 div.sk-estimator:hover label.sk-toggleable__label-arrow:before {color: black;}#sk-container-id-1 div.sk-toggleable__content {max-height: 0;max-width: 0;overflow: hidden;text-align: left;background-color: #f0f8ff;}#sk-container-id-1 div.sk-toggleable__content pre {margin: 0.2em;color: black;border-radius: 0.25em;background-color: #f0f8ff;}#sk-container-id-1 input.sk-toggleable__control:checked~div.sk-toggleable__content {max-height: 200px;max-width: 100%;overflow: auto;}#sk-container-id-1 input.sk-toggleable__control:checked~label.sk-toggleable__label-arrow:before {content: \"▾\";}#sk-container-id-1 div.sk-estimator input.sk-toggleable__control:checked~label.sk-toggleable__label {background-color: #d4ebff;}#sk-container-id-1 div.sk-label input.sk-toggleable__control:checked~label.sk-toggleable__label {background-color: #d4ebff;}#sk-container-id-1 input.sk-hidden--visually {border: 0;clip: rect(1px 1px 1px 1px);clip: rect(1px, 1px, 1px, 1px);height: 1px;margin: -1px;overflow: hidden;padding: 0;position: absolute;width: 1px;}#sk-container-id-1 div.sk-estimator {font-family: monospace;background-color: #f0f8ff;border: 1px dotted black;border-radius: 0.25em;box-sizing: border-box;margin-bottom: 0.5em;}#sk-container-id-1 div.sk-estimator:hover {background-color: #d4ebff;}#sk-container-id-1 div.sk-parallel-item::after {content: \"\";width: 100%;border-bottom: 1px solid gray;flex-grow: 1;}#sk-container-id-1 div.sk-label:hover label.sk-toggleable__label {background-color: #d4ebff;}#sk-container-id-1 div.sk-serial::before {content: \"\";position: absolute;border-left: 1px solid gray;box-sizing: border-box;top: 0;bottom: 0;left: 50%;z-index: 0;}#sk-container-id-1 div.sk-serial {display: flex;flex-direction: column;align-items: center;background-color: white;padding-right: 0.2em;padding-left: 0.2em;position: relative;}#sk-container-id-1 div.sk-item {position: relative;z-index: 1;}#sk-container-id-1 div.sk-parallel {display: flex;align-items: stretch;justify-content: center;background-color: white;position: relative;}#sk-container-id-1 div.sk-item::before, #sk-container-id-1 div.sk-parallel-item::before {content: \"\";position: absolute;border-left: 1px solid gray;box-sizing: border-box;top: 0;bottom: 0;left: 50%;z-index: -1;}#sk-container-id-1 div.sk-parallel-item {display: flex;flex-direction: column;z-index: 1;position: relative;background-color: white;}#sk-container-id-1 div.sk-parallel-item:first-child::after {align-self: flex-end;width: 50%;}#sk-container-id-1 div.sk-parallel-item:last-child::after {align-self: flex-start;width: 50%;}#sk-container-id-1 div.sk-parallel-item:only-child::after {width: 0;}#sk-container-id-1 div.sk-dashed-wrapped {border: 1px dashed gray;margin: 0 0.4em 0.5em 0.4em;box-sizing: border-box;padding-bottom: 0.4em;background-color: white;}#sk-container-id-1 div.sk-label label {font-family: monospace;font-weight: bold;display: inline-block;line-height: 1.2em;}#sk-container-id-1 div.sk-label-container {text-align: center;}#sk-container-id-1 div.sk-container {/* jupyter's `normalize.less` sets `[hidden] { display: none; }` but bootstrap.min.css set `[hidden] { display: none !important; }` so we also need the `!important` here to be able to override the default hidden behavior on the sphinx rendered scikit-learn.org. See: https://github.com/scikit-learn/scikit-learn/issues/21755 */display: inline-block !important;position: relative;}#sk-container-id-1 div.sk-text-repr-fallback {display: none;}</style><div id=\"sk-container-id-1\" class=\"sk-top-container\"><div class=\"sk-text-repr-fallback\"><pre>LinearRegression()</pre><b>In a Jupyter environment, please rerun this cell to show the HTML representation or trust the notebook. <br />On GitHub, the HTML representation is unable to render, please try loading this page with nbviewer.org.</b></div><div class=\"sk-container\" hidden><div class=\"sk-item\"><div class=\"sk-estimator sk-toggleable\"><input class=\"sk-toggleable__control sk-hidden--visually\" id=\"sk-estimator-id-1\" type=\"checkbox\" checked><label for=\"sk-estimator-id-1\" class=\"sk-toggleable__label sk-toggleable__label-arrow\">LinearRegression</label><div class=\"sk-toggleable__content\"><pre>LinearRegression()</pre></div></div></div></div></div>"
      ],
      "text/plain": [
       "LinearRegression()"
      ]
     },
     "execution_count": 14,
     "metadata": {},
     "output_type": "execute_result"
    }
   ],
   "source": [
    "lreg = LinearRegression()\n",
    "lreg.fit(X, y)"
   ]
  },
  {
   "cell_type": "code",
   "execution_count": 15,
   "id": "88f3dfba",
   "metadata": {
    "execution": {
     "iopub.execute_input": "2023-08-08T14:45:24.988801Z",
     "iopub.status.busy": "2023-08-08T14:45:24.988380Z",
     "iopub.status.idle": "2023-08-08T14:45:24.993470Z",
     "shell.execute_reply": "2023-08-08T14:45:24.992491Z"
    },
    "papermill": {
     "duration": 0.017206,
     "end_time": "2023-08-08T14:45:24.995632",
     "exception": false,
     "start_time": "2023-08-08T14:45:24.978426",
     "status": "completed"
    },
    "tags": []
   },
   "outputs": [],
   "source": [
    "# Predicting the test set results\n",
    "y_pred = lreg.predict(X_test)\n",
    "y_pred_train = lreg.predict(X_train)"
   ]
  },
  {
   "cell_type": "code",
   "execution_count": 16,
   "id": "6f955a64",
   "metadata": {},
   "outputs": [
    {
     "data": {
      "text/plain": [
       "array([0.05546477])"
      ]
     },
     "execution_count": 16,
     "metadata": {},
     "output_type": "execute_result"
    }
   ],
   "source": [
    "lreg.coef_\n"
   ]
  },
  {
   "cell_type": "code",
   "execution_count": 17,
   "id": "a2313748",
   "metadata": {},
   "outputs": [
    {
     "data": {
      "text/plain": [
       "6.9748214882298925"
      ]
     },
     "execution_count": 17,
     "metadata": {},
     "output_type": "execute_result"
    }
   ],
   "source": [
    "lreg.intercept_"
   ]
  },
  {
   "cell_type": "code",
   "execution_count": 18,
   "id": "6752affc",
   "metadata": {
    "execution": {
     "iopub.execute_input": "2023-08-08T14:45:25.015179Z",
     "iopub.status.busy": "2023-08-08T14:45:25.014770Z",
     "iopub.status.idle": "2023-08-08T14:45:25.021559Z",
     "shell.execute_reply": "2023-08-08T14:45:25.020281Z"
    },
    "papermill": {
     "duration": 0.019385,
     "end_time": "2023-08-08T14:45:25.023814",
     "exception": false,
     "start_time": "2023-08-08T14:45:25.004429",
     "status": "completed"
    },
    "tags": []
   },
   "outputs": [
    {
     "data": {
      "text/plain": [
       "6.090036979246393"
      ]
     },
     "execution_count": 18,
     "metadata": {},
     "output_type": "execute_result"
    }
   ],
   "source": [
    "#MSE for testing set\n",
    "mean_squared_error(y_test,y_pred)"
   ]
  },
  {
   "cell_type": "code",
   "execution_count": 19,
   "id": "6b7d8d02",
   "metadata": {
    "execution": {
     "iopub.execute_input": "2023-08-08T14:45:25.043807Z",
     "iopub.status.busy": "2023-08-08T14:45:25.043404Z",
     "iopub.status.idle": "2023-08-08T14:45:25.048670Z",
     "shell.execute_reply": "2023-08-08T14:45:25.047867Z"
    },
    "papermill": {
     "duration": 0.017655,
     "end_time": "2023-08-08T14:45:25.050787",
     "exception": false,
     "start_time": "2023-08-08T14:45:25.033132",
     "status": "completed"
    },
    "tags": []
   },
   "outputs": [
    {
     "data": {
      "text/plain": [
       "0.813440772394617"
      ]
     },
     "execution_count": 19,
     "metadata": {},
     "output_type": "execute_result"
    }
   ],
   "source": [
    "#r squared for training set\n",
    "r2_score(y_train,y_pred_train)"
   ]
  },
  {
   "cell_type": "code",
   "execution_count": 20,
   "id": "a01cc50f",
   "metadata": {},
   "outputs": [
    {
     "data": {
      "image/png": "[encoded data removed]",
      "text/plain": [
       "<Figure size 640x480 with 1 Axes>"
      ]
     },
     "metadata": {},
     "output_type": "display_data"
    }
   ],
   "source": [
    "plt.scatter(X_test, y_test, color='g')\n",
    "plt.plot(X_test,y_pred , color ='r')\n",
    "plt.show()"
   ]
  }
 ],
 "metadata": {
  "kernelspec": {
   "display_name": "Python 3 (ipykernel)",
   "language": "python",
   "name": "python3"
  },
  "language_info": {
   "codemirror_mode": {
    "name": "ipython",
    "version": 3
   },
   "file_extension": ".py",
   "mimetype": "text/x-python",
   "name": "python",
   "nbconvert_exporter": "python",
   "pygments_lexer": "ipython3",
   "version": "3.11.4"
  },
  "papermill": {
   "default_parameters": {},
   "duration": 13.312216,
   "end_time": "2023-08-08T14:45:26.620427",
   "environment_variables": {},
   "exception": null,
   "input_path": "__notebook__.ipynb",
   "output_path": "__notebook__.ipynb",
   "parameters": {},
   "start_time": "2023-08-08T14:45:13.308211",
   "version": "2.4.0"
  }
 },
 "nbformat": 4,
 "nbformat_minor": 5
}
