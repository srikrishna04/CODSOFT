{
 "cells": [
  {
   "cell_type": "markdown",
   "id": "c592ee6c",
   "metadata": {},
   "source": [
    "# 1.importing modules"
   ]
  },
  {
   "cell_type": "code",
   "execution_count": 1,
   "id": "4d86abbc",
   "metadata": {
    "execution": {
     "iopub.execute_input": "2023-08-11T15:47:23.017195Z",
     "iopub.status.busy": "2023-08-11T15:47:23.016817Z",
     "iopub.status.idle": "2023-08-11T15:47:25.351371Z",
     "shell.execute_reply": "2023-08-11T15:47:25.349534Z"
    },
    "papermill": {
     "duration": 2.346874,
     "end_time": "2023-08-11T15:47:25.353943",
     "exception": false,
     "start_time": "2023-08-11T15:47:23.007069",
     "status": "completed"
    },
    "tags": []
   },
   "outputs": [],
   "source": [
    "import numpy as np\n",
    "import pandas as pd\n",
    "import matplotlib.pyplot as plt\n",
    "import seaborn as sns \n",
    "from sklearn.model_selection import train_test_split\n",
    "from sklearn.linear_model import LogisticRegression\n",
    "from sklearn.neighbors import KNeighborsClassifier\n",
    "from sklearn.tree import DecisionTreeClassifier"
   ]
  },
  {
   "cell_type": "markdown",
   "id": "53c17b16",
   "metadata": {
    "papermill": {
     "duration": 0.006173,
     "end_time": "2023-08-11T15:47:23.000314",
     "exception": false,
     "start_time": "2023-08-11T15:47:22.994141",
     "status": "completed"
    },
    "tags": []
   },
   "source": [
    "# 2.Data Aquisation "
   ]
  },
  {
   "cell_type": "code",
   "execution_count": 2,
   "id": "4643d38a",
   "metadata": {},
   "outputs": [
    {
     "data": {
      "text/html": [
       "<div>\n",
       "<style scoped>\n",
       "    .dataframe tbody tr th:only-of-type {\n",
       "        vertical-align: middle;\n",
       "    }\n",
       "\n",
       "    .dataframe tbody tr th {\n",
       "        vertical-align: top;\n",
       "    }\n",
       "\n",
       "    .dataframe thead th {\n",
       "        text-align: right;\n",
       "    }\n",
       "</style>\n",
       "<table border=\"1\" class=\"dataframe\">\n",
       "  <thead>\n",
       "    <tr style=\"text-align: right;\">\n",
       "      <th></th>\n",
       "      <th>MovieID</th>\n",
       "      <th>Title</th>\n",
       "      <th>Genres</th>\n",
       "    </tr>\n",
       "  </thead>\n",
       "  <tbody>\n",
       "    <tr>\n",
       "      <th>0</th>\n",
       "      <td>2</td>\n",
       "      <td>Jumanji (1995)</td>\n",
       "      <td>Adventure|Children's|Fantasy</td>\n",
       "    </tr>\n",
       "    <tr>\n",
       "      <th>1</th>\n",
       "      <td>3</td>\n",
       "      <td>Grumpier Old Men (1995)</td>\n",
       "      <td>Comedy|Romance</td>\n",
       "    </tr>\n",
       "    <tr>\n",
       "      <th>2</th>\n",
       "      <td>4</td>\n",
       "      <td>Waiting to Exhale (1995)</td>\n",
       "      <td>Comedy|Drama</td>\n",
       "    </tr>\n",
       "    <tr>\n",
       "      <th>3</th>\n",
       "      <td>5</td>\n",
       "      <td>Father of the Bride Part II (1995)</td>\n",
       "      <td>Comedy</td>\n",
       "    </tr>\n",
       "    <tr>\n",
       "      <th>4</th>\n",
       "      <td>6</td>\n",
       "      <td>Heat (1995)</td>\n",
       "      <td>Action|Crime|Thriller</td>\n",
       "    </tr>\n",
       "  </tbody>\n",
       "</table>\n",
       "</div>"
      ],
      "text/plain": [
       "   MovieID                               Title                        Genres\n",
       "0        2                      Jumanji (1995)  Adventure|Children's|Fantasy\n",
       "1        3             Grumpier Old Men (1995)                Comedy|Romance\n",
       "2        4            Waiting to Exhale (1995)                  Comedy|Drama\n",
       "3        5  Father of the Bride Part II (1995)                        Comedy\n",
       "4        6                         Heat (1995)         Action|Crime|Thriller"
      ]
     },
     "execution_count": 2,
     "metadata": {},
     "output_type": "execute_result"
    }
   ],
   "source": [
    "#Input movies dataset\n",
    "movies = pd.read_csv(r\"./movies.dat\", sep='::', engine='python', encoding='latin1')\n",
    "movies.columns =['MovieID', 'Title', 'Genres']\n",
    "movies.dropna(inplace=True)\n",
    "movies.head()"
   ]
  },
  {
   "cell_type": "code",
   "execution_count": 3,
   "id": "b0361844",
   "metadata": {
    "execution": {
     "iopub.execute_input": "2023-08-11T15:47:25.369496Z",
     "iopub.status.busy": "2023-08-11T15:47:25.369115Z",
     "iopub.status.idle": "2023-08-11T15:47:29.985645Z",
     "shell.execute_reply": "2023-08-11T15:47:29.984653Z"
    },
    "papermill": {
     "duration": 4.626547,
     "end_time": "2023-08-11T15:47:29.987524",
     "exception": false,
     "start_time": "2023-08-11T15:47:25.360977",
     "status": "completed"
    },
    "tags": []
   },
   "outputs": [
    {
     "data": {
      "text/html": [
       "<div>\n",
       "<style scoped>\n",
       "    .dataframe tbody tr th:only-of-type {\n",
       "        vertical-align: middle;\n",
       "    }\n",
       "\n",
       "    .dataframe tbody tr th {\n",
       "        vertical-align: top;\n",
       "    }\n",
       "\n",
       "    .dataframe thead th {\n",
       "        text-align: right;\n",
       "    }\n",
       "</style>\n",
       "<table border=\"1\" class=\"dataframe\">\n",
       "  <thead>\n",
       "    <tr style=\"text-align: right;\">\n",
       "      <th></th>\n",
       "      <th>UserID</th>\n",
       "      <th>MovieID</th>\n",
       "      <th>Rating</th>\n",
       "      <th>Timestamp</th>\n",
       "    </tr>\n",
       "  </thead>\n",
       "  <tbody>\n",
       "    <tr>\n",
       "      <th>0</th>\n",
       "      <td>1</td>\n",
       "      <td>661</td>\n",
       "      <td>3</td>\n",
       "      <td>978302109</td>\n",
       "    </tr>\n",
       "    <tr>\n",
       "      <th>1</th>\n",
       "      <td>1</td>\n",
       "      <td>914</td>\n",
       "      <td>3</td>\n",
       "      <td>978301968</td>\n",
       "    </tr>\n",
       "    <tr>\n",
       "      <th>2</th>\n",
       "      <td>1</td>\n",
       "      <td>3408</td>\n",
       "      <td>4</td>\n",
       "      <td>978300275</td>\n",
       "    </tr>\n",
       "    <tr>\n",
       "      <th>3</th>\n",
       "      <td>1</td>\n",
       "      <td>2355</td>\n",
       "      <td>5</td>\n",
       "      <td>978824291</td>\n",
       "    </tr>\n",
       "    <tr>\n",
       "      <th>4</th>\n",
       "      <td>1</td>\n",
       "      <td>1197</td>\n",
       "      <td>3</td>\n",
       "      <td>978302268</td>\n",
       "    </tr>\n",
       "  </tbody>\n",
       "</table>\n",
       "</div>"
      ],
      "text/plain": [
       "   UserID  MovieID  Rating  Timestamp\n",
       "0       1      661       3  978302109\n",
       "1       1      914       3  978301968\n",
       "2       1     3408       4  978300275\n",
       "3       1     2355       5  978824291\n",
       "4       1     1197       3  978302268"
      ]
     },
     "execution_count": 3,
     "metadata": {},
     "output_type": "execute_result"
    }
   ],
   "source": [
    "#Input ratings dataset\n",
    "ratings = pd.read_csv(r\"./ratings.dat\",sep='::', engine='python')\n",
    "ratings.columns =['UserID', 'MovieID', 'Rating', 'Timestamp']\n",
    "ratings.dropna(inplace=True)\n",
    "\n",
    "#Read the sample ratings dataset\n",
    "ratings.head()"
   ]
  },
  {
   "cell_type": "code",
   "execution_count": 4,
   "id": "8a3c532a",
   "metadata": {
    "execution": {
     "iopub.execute_input": "2023-08-11T15:47:30.003733Z",
     "iopub.status.busy": "2023-08-11T15:47:30.002647Z",
     "iopub.status.idle": "2023-08-11T15:47:30.057147Z",
     "shell.execute_reply": "2023-08-11T15:47:30.055922Z"
    },
    "papermill": {
     "duration": 0.064731,
     "end_time": "2023-08-11T15:47:30.059362",
     "exception": false,
     "start_time": "2023-08-11T15:47:29.994631",
     "status": "completed"
    },
    "tags": []
   },
   "outputs": [
    {
     "data": {
      "text/html": [
       "<div>\n",
       "<style scoped>\n",
       "    .dataframe tbody tr th:only-of-type {\n",
       "        vertical-align: middle;\n",
       "    }\n",
       "\n",
       "    .dataframe tbody tr th {\n",
       "        vertical-align: top;\n",
       "    }\n",
       "\n",
       "    .dataframe thead th {\n",
       "        text-align: right;\n",
       "    }\n",
       "</style>\n",
       "<table border=\"1\" class=\"dataframe\">\n",
       "  <thead>\n",
       "    <tr style=\"text-align: right;\">\n",
       "      <th></th>\n",
       "      <th>UserID</th>\n",
       "      <th>Gender</th>\n",
       "      <th>Age</th>\n",
       "      <th>Occupation</th>\n",
       "      <th>Zip-code</th>\n",
       "    </tr>\n",
       "  </thead>\n",
       "  <tbody>\n",
       "    <tr>\n",
       "      <th>0</th>\n",
       "      <td>2</td>\n",
       "      <td>M</td>\n",
       "      <td>56</td>\n",
       "      <td>16</td>\n",
       "      <td>70072</td>\n",
       "    </tr>\n",
       "    <tr>\n",
       "      <th>1</th>\n",
       "      <td>3</td>\n",
       "      <td>M</td>\n",
       "      <td>25</td>\n",
       "      <td>15</td>\n",
       "      <td>55117</td>\n",
       "    </tr>\n",
       "    <tr>\n",
       "      <th>2</th>\n",
       "      <td>4</td>\n",
       "      <td>M</td>\n",
       "      <td>45</td>\n",
       "      <td>7</td>\n",
       "      <td>02460</td>\n",
       "    </tr>\n",
       "    <tr>\n",
       "      <th>3</th>\n",
       "      <td>5</td>\n",
       "      <td>M</td>\n",
       "      <td>25</td>\n",
       "      <td>20</td>\n",
       "      <td>55455</td>\n",
       "    </tr>\n",
       "    <tr>\n",
       "      <th>4</th>\n",
       "      <td>6</td>\n",
       "      <td>F</td>\n",
       "      <td>50</td>\n",
       "      <td>9</td>\n",
       "      <td>55117</td>\n",
       "    </tr>\n",
       "  </tbody>\n",
       "</table>\n",
       "</div>"
      ],
      "text/plain": [
       "   UserID Gender  Age  Occupation Zip-code\n",
       "0       2      M   56          16    70072\n",
       "1       3      M   25          15    55117\n",
       "2       4      M   45           7    02460\n",
       "3       5      M   25          20    55455\n",
       "4       6      F   50           9    55117"
      ]
     },
     "execution_count": 4,
     "metadata": {},
     "output_type": "execute_result"
    }
   ],
   "source": [
    "#Input users dataset\n",
    "users = pd.read_csv(r\"./users.dat\",sep='::',engine='python')\n",
    "users.columns =['UserID', 'Gender', 'Age', 'Occupation', 'Zip-code']\n",
    "users.dropna(inplace=True)\n",
    "\n",
    "#Read the sample users dataset\n",
    "users.head()"
   ]
  },
  {
   "cell_type": "code",
   "execution_count": 5,
   "id": "7076b7d9",
   "metadata": {
    "execution": {
     "iopub.execute_input": "2023-08-11T15:47:30.076495Z",
     "iopub.status.busy": "2023-08-11T15:47:30.075753Z",
     "iopub.status.idle": "2023-08-11T15:47:30.994365Z",
     "shell.execute_reply": "2023-08-11T15:47:30.992901Z"
    },
    "papermill": {
     "duration": 0.929313,
     "end_time": "2023-08-11T15:47:30.997042",
     "exception": false,
     "start_time": "2023-08-11T15:47:30.067729",
     "status": "completed"
    },
    "tags": []
   },
   "outputs": [
    {
     "data": {
      "text/html": [
       "<div>\n",
       "<style scoped>\n",
       "    .dataframe tbody tr th:only-of-type {\n",
       "        vertical-align: middle;\n",
       "    }\n",
       "\n",
       "    .dataframe tbody tr th {\n",
       "        vertical-align: top;\n",
       "    }\n",
       "\n",
       "    .dataframe thead th {\n",
       "        text-align: right;\n",
       "    }\n",
       "</style>\n",
       "<table border=\"1\" class=\"dataframe\">\n",
       "  <thead>\n",
       "    <tr style=\"text-align: right;\">\n",
       "      <th></th>\n",
       "      <th>MovieID</th>\n",
       "      <th>Title</th>\n",
       "      <th>Genres</th>\n",
       "      <th>UserID</th>\n",
       "      <th>MovieID</th>\n",
       "      <th>Rating</th>\n",
       "      <th>Timestamp</th>\n",
       "      <th>UserID</th>\n",
       "      <th>Gender</th>\n",
       "      <th>Age</th>\n",
       "      <th>Occupation</th>\n",
       "      <th>Zip-code</th>\n",
       "    </tr>\n",
       "  </thead>\n",
       "  <tbody>\n",
       "    <tr>\n",
       "      <th>0</th>\n",
       "      <td>2.0</td>\n",
       "      <td>Jumanji (1995)</td>\n",
       "      <td>Adventure|Children's|Fantasy</td>\n",
       "      <td>1</td>\n",
       "      <td>661</td>\n",
       "      <td>3</td>\n",
       "      <td>978302109</td>\n",
       "      <td>2.0</td>\n",
       "      <td>M</td>\n",
       "      <td>56.0</td>\n",
       "      <td>16.0</td>\n",
       "      <td>70072</td>\n",
       "    </tr>\n",
       "    <tr>\n",
       "      <th>1</th>\n",
       "      <td>3.0</td>\n",
       "      <td>Grumpier Old Men (1995)</td>\n",
       "      <td>Comedy|Romance</td>\n",
       "      <td>1</td>\n",
       "      <td>914</td>\n",
       "      <td>3</td>\n",
       "      <td>978301968</td>\n",
       "      <td>3.0</td>\n",
       "      <td>M</td>\n",
       "      <td>25.0</td>\n",
       "      <td>15.0</td>\n",
       "      <td>55117</td>\n",
       "    </tr>\n",
       "    <tr>\n",
       "      <th>2</th>\n",
       "      <td>4.0</td>\n",
       "      <td>Waiting to Exhale (1995)</td>\n",
       "      <td>Comedy|Drama</td>\n",
       "      <td>1</td>\n",
       "      <td>3408</td>\n",
       "      <td>4</td>\n",
       "      <td>978300275</td>\n",
       "      <td>4.0</td>\n",
       "      <td>M</td>\n",
       "      <td>45.0</td>\n",
       "      <td>7.0</td>\n",
       "      <td>02460</td>\n",
       "    </tr>\n",
       "    <tr>\n",
       "      <th>3</th>\n",
       "      <td>5.0</td>\n",
       "      <td>Father of the Bride Part II (1995)</td>\n",
       "      <td>Comedy</td>\n",
       "      <td>1</td>\n",
       "      <td>2355</td>\n",
       "      <td>5</td>\n",
       "      <td>978824291</td>\n",
       "      <td>5.0</td>\n",
       "      <td>M</td>\n",
       "      <td>25.0</td>\n",
       "      <td>20.0</td>\n",
       "      <td>55455</td>\n",
       "    </tr>\n",
       "    <tr>\n",
       "      <th>4</th>\n",
       "      <td>6.0</td>\n",
       "      <td>Heat (1995)</td>\n",
       "      <td>Action|Crime|Thriller</td>\n",
       "      <td>1</td>\n",
       "      <td>1197</td>\n",
       "      <td>3</td>\n",
       "      <td>978302268</td>\n",
       "      <td>6.0</td>\n",
       "      <td>F</td>\n",
       "      <td>50.0</td>\n",
       "      <td>9.0</td>\n",
       "      <td>55117</td>\n",
       "    </tr>\n",
       "  </tbody>\n",
       "</table>\n",
       "</div>"
      ],
      "text/plain": [
       "   MovieID                               Title                        Genres  \\\n",
       "0      2.0                      Jumanji (1995)  Adventure|Children's|Fantasy   \n",
       "1      3.0             Grumpier Old Men (1995)                Comedy|Romance   \n",
       "2      4.0            Waiting to Exhale (1995)                  Comedy|Drama   \n",
       "3      5.0  Father of the Bride Part II (1995)                        Comedy   \n",
       "4      6.0                         Heat (1995)         Action|Crime|Thriller   \n",
       "\n",
       "   UserID  MovieID  Rating  Timestamp  UserID Gender   Age  Occupation  \\\n",
       "0       1      661       3  978302109     2.0      M  56.0        16.0   \n",
       "1       1      914       3  978301968     3.0      M  25.0        15.0   \n",
       "2       1     3408       4  978300275     4.0      M  45.0         7.0   \n",
       "3       1     2355       5  978824291     5.0      M  25.0        20.0   \n",
       "4       1     1197       3  978302268     6.0      F  50.0         9.0   \n",
       "\n",
       "  Zip-code  \n",
       "0    70072  \n",
       "1    55117  \n",
       "2    02460  \n",
       "3    55455  \n",
       "4    55117  "
      ]
     },
     "execution_count": 5,
     "metadata": {},
     "output_type": "execute_result"
    }
   ],
   "source": [
    "total_data=pd.concat([movies,ratings,users],axis=1)\n",
    "total_data.head()"
   ]
  },
  {
   "cell_type": "markdown",
   "id": "9f705a40",
   "metadata": {
    "papermill": {
     "duration": 0.007567,
     "end_time": "2023-08-11T15:47:31.153476",
     "exception": false,
     "start_time": "2023-08-11T15:47:31.145909",
     "status": "completed"
    },
    "tags": []
   },
   "source": [
    "# 3. Analysing the data"
   ]
  },
  {
   "cell_type": "code",
   "execution_count": 6,
   "id": "ece5a720",
   "metadata": {},
   "outputs": [
    {
     "data": {
      "text/plain": [
       "(1000208, 12)"
      ]
     },
     "execution_count": 6,
     "metadata": {},
     "output_type": "execute_result"
    }
   ],
   "source": [
    "total_data.shape"
   ]
  },
  {
   "cell_type": "code",
   "execution_count": 7,
   "id": "25434856",
   "metadata": {},
   "outputs": [
    {
     "data": {
      "text/plain": [
       "Rating\n",
       "4    348971\n",
       "3    261197\n",
       "5    226309\n",
       "2    107557\n",
       "1     56174\n",
       "dtype: int64"
      ]
     },
     "execution_count": 7,
     "metadata": {},
     "output_type": "execute_result"
    }
   ],
   "source": [
    "total_data.value_counts('Rating')"
   ]
  },
  {
   "cell_type": "code",
   "execution_count": 8,
   "id": "2bd2995c",
   "metadata": {},
   "outputs": [
    {
     "name": "stdout",
     "output_type": "stream",
     "text": [
      "<class 'pandas.core.frame.DataFrame'>\n",
      "RangeIndex: 1000208 entries, 0 to 1000207\n",
      "Data columns (total 12 columns):\n",
      " #   Column      Non-Null Count    Dtype  \n",
      "---  ------      --------------    -----  \n",
      " 0   MovieID     3882 non-null     float64\n",
      " 1   Title       3882 non-null     object \n",
      " 2   Genres      3882 non-null     object \n",
      " 3   UserID      1000208 non-null  int64  \n",
      " 4   MovieID     1000208 non-null  int64  \n",
      " 5   Rating      1000208 non-null  int64  \n",
      " 6   Timestamp   1000208 non-null  int64  \n",
      " 7   UserID      6039 non-null     float64\n",
      " 8   Gender      6039 non-null     object \n",
      " 9   Age         6039 non-null     float64\n",
      " 10  Occupation  6039 non-null     float64\n",
      " 11  Zip-code    6039 non-null     object \n",
      "dtypes: float64(4), int64(4), object(4)\n",
      "memory usage: 91.6+ MB\n"
     ]
    }
   ],
   "source": [
    "total_data.info()"
   ]
  },
  {
   "cell_type": "code",
   "execution_count": 9,
   "id": "40d671db",
   "metadata": {},
   "outputs": [
    {
     "data": {
      "text/plain": [
       "Index(['MovieID', 'Title', 'Genres', 'UserID', 'MovieID', 'Rating',\n",
       "       'Timestamp', 'UserID', 'Gender', 'Age', 'Occupation', 'Zip-code'],\n",
       "      dtype='object')"
      ]
     },
     "execution_count": 9,
     "metadata": {},
     "output_type": "execute_result"
    }
   ],
   "source": [
    "total_data.columns"
   ]
  },
  {
   "cell_type": "code",
   "execution_count": 10,
   "id": "378126e9",
   "metadata": {},
   "outputs": [
    {
     "data": {
      "text/plain": [
       "MovieID       float64\n",
       "Title          object\n",
       "Genres         object\n",
       "UserID          int64\n",
       "MovieID         int64\n",
       "Rating          int64\n",
       "Timestamp       int64\n",
       "UserID        float64\n",
       "Gender         object\n",
       "Age           float64\n",
       "Occupation    float64\n",
       "Zip-code       object\n",
       "dtype: object"
      ]
     },
     "execution_count": 10,
     "metadata": {},
     "output_type": "execute_result"
    }
   ],
   "source": [
    "total_data.dtypes"
   ]
  },
  {
   "cell_type": "code",
   "execution_count": 11,
   "id": "27744bd3",
   "metadata": {},
   "outputs": [
    {
     "name": "stderr",
     "output_type": "stream",
     "text": [
      "C:\\Users\\srira\\AppData\\Local\\Temp\\ipykernel_15560\\354577074.py:1: FutureWarning: The default value of numeric_only in DataFrame.corr is deprecated. In a future version, it will default to False. Select only valid columns or specify the value of numeric_only to silence this warning.\n",
      "  total_data.corr()\n"
     ]
    },
    {
     "data": {
      "text/html": [
       "<div>\n",
       "<style scoped>\n",
       "    .dataframe tbody tr th:only-of-type {\n",
       "        vertical-align: middle;\n",
       "    }\n",
       "\n",
       "    .dataframe tbody tr th {\n",
       "        vertical-align: top;\n",
       "    }\n",
       "\n",
       "    .dataframe thead th {\n",
       "        text-align: right;\n",
       "    }\n",
       "</style>\n",
       "<table border=\"1\" class=\"dataframe\">\n",
       "  <thead>\n",
       "    <tr style=\"text-align: right;\">\n",
       "      <th></th>\n",
       "      <th>MovieID</th>\n",
       "      <th>UserID</th>\n",
       "      <th>MovieID</th>\n",
       "      <th>Rating</th>\n",
       "      <th>Timestamp</th>\n",
       "      <th>UserID</th>\n",
       "      <th>Age</th>\n",
       "      <th>Occupation</th>\n",
       "    </tr>\n",
       "  </thead>\n",
       "  <tbody>\n",
       "    <tr>\n",
       "      <th>MovieID</th>\n",
       "      <td>1.000000</td>\n",
       "      <td>0.991045</td>\n",
       "      <td>0.008523</td>\n",
       "      <td>-0.152805</td>\n",
       "      <td>0.072239</td>\n",
       "      <td>0.999944</td>\n",
       "      <td>-0.005678</td>\n",
       "      <td>0.003494</td>\n",
       "    </tr>\n",
       "    <tr>\n",
       "      <th>UserID</th>\n",
       "      <td>0.991045</td>\n",
       "      <td>1.000000</td>\n",
       "      <td>-0.017740</td>\n",
       "      <td>0.012305</td>\n",
       "      <td>-0.490383</td>\n",
       "      <td>0.996038</td>\n",
       "      <td>0.006483</td>\n",
       "      <td>-0.016237</td>\n",
       "    </tr>\n",
       "    <tr>\n",
       "      <th>MovieID</th>\n",
       "      <td>0.008523</td>\n",
       "      <td>-0.017740</td>\n",
       "      <td>1.000000</td>\n",
       "      <td>-0.064041</td>\n",
       "      <td>0.041632</td>\n",
       "      <td>0.037809</td>\n",
       "      <td>-0.002472</td>\n",
       "      <td>0.024314</td>\n",
       "    </tr>\n",
       "    <tr>\n",
       "      <th>Rating</th>\n",
       "      <td>-0.152805</td>\n",
       "      <td>0.012305</td>\n",
       "      <td>-0.064041</td>\n",
       "      <td>1.000000</td>\n",
       "      <td>-0.026771</td>\n",
       "      <td>0.004246</td>\n",
       "      <td>-0.004449</td>\n",
       "      <td>0.003615</td>\n",
       "    </tr>\n",
       "    <tr>\n",
       "      <th>Timestamp</th>\n",
       "      <td>0.072239</td>\n",
       "      <td>-0.490383</td>\n",
       "      <td>0.041632</td>\n",
       "      <td>-0.026771</td>\n",
       "      <td>1.000000</td>\n",
       "      <td>0.128380</td>\n",
       "      <td>-0.002312</td>\n",
       "      <td>-0.028189</td>\n",
       "    </tr>\n",
       "    <tr>\n",
       "      <th>UserID</th>\n",
       "      <td>0.999944</td>\n",
       "      <td>0.996038</td>\n",
       "      <td>0.037809</td>\n",
       "      <td>0.004246</td>\n",
       "      <td>0.128380</td>\n",
       "      <td>1.000000</td>\n",
       "      <td>0.005058</td>\n",
       "      <td>-0.018040</td>\n",
       "    </tr>\n",
       "    <tr>\n",
       "      <th>Age</th>\n",
       "      <td>-0.005678</td>\n",
       "      <td>0.006483</td>\n",
       "      <td>-0.002472</td>\n",
       "      <td>-0.004449</td>\n",
       "      <td>-0.002312</td>\n",
       "      <td>0.005058</td>\n",
       "      <td>1.000000</td>\n",
       "      <td>0.065350</td>\n",
       "    </tr>\n",
       "    <tr>\n",
       "      <th>Occupation</th>\n",
       "      <td>0.003494</td>\n",
       "      <td>-0.016237</td>\n",
       "      <td>0.024314</td>\n",
       "      <td>0.003615</td>\n",
       "      <td>-0.028189</td>\n",
       "      <td>-0.018040</td>\n",
       "      <td>0.065350</td>\n",
       "      <td>1.000000</td>\n",
       "    </tr>\n",
       "  </tbody>\n",
       "</table>\n",
       "</div>"
      ],
      "text/plain": [
       "             MovieID    UserID   MovieID    Rating  Timestamp    UserID  \\\n",
       "MovieID     1.000000  0.991045  0.008523 -0.152805   0.072239  0.999944   \n",
       "UserID      0.991045  1.000000 -0.017740  0.012305  -0.490383  0.996038   \n",
       "MovieID     0.008523 -0.017740  1.000000 -0.064041   0.041632  0.037809   \n",
       "Rating     -0.152805  0.012305 -0.064041  1.000000  -0.026771  0.004246   \n",
       "Timestamp   0.072239 -0.490383  0.041632 -0.026771   1.000000  0.128380   \n",
       "UserID      0.999944  0.996038  0.037809  0.004246   0.128380  1.000000   \n",
       "Age        -0.005678  0.006483 -0.002472 -0.004449  -0.002312  0.005058   \n",
       "Occupation  0.003494 -0.016237  0.024314  0.003615  -0.028189 -0.018040   \n",
       "\n",
       "                 Age  Occupation  \n",
       "MovieID    -0.005678    0.003494  \n",
       "UserID      0.006483   -0.016237  \n",
       "MovieID    -0.002472    0.024314  \n",
       "Rating     -0.004449    0.003615  \n",
       "Timestamp  -0.002312   -0.028189  \n",
       "UserID      0.005058   -0.018040  \n",
       "Age         1.000000    0.065350  \n",
       "Occupation  0.065350    1.000000  "
      ]
     },
     "execution_count": 11,
     "metadata": {},
     "output_type": "execute_result"
    }
   ],
   "source": [
    "total_data.corr()"
   ]
  },
  {
   "cell_type": "code",
   "execution_count": 12,
   "id": "ad313786",
   "metadata": {},
   "outputs": [
    {
     "data": {
      "text/plain": [
       "MovieID       996326\n",
       "Title         996326\n",
       "Genres        996326\n",
       "UserID             0\n",
       "MovieID            0\n",
       "Rating             0\n",
       "Timestamp          0\n",
       "UserID        994169\n",
       "Gender        994169\n",
       "Age           994169\n",
       "Occupation    994169\n",
       "Zip-code      994169\n",
       "dtype: int64"
      ]
     },
     "execution_count": 12,
     "metadata": {},
     "output_type": "execute_result"
    }
   ],
   "source": [
    "total_data.isnull().sum()"
   ]
  },
  {
   "cell_type": "markdown",
   "id": "e9905460",
   "metadata": {
    "papermill": {
     "duration": 0.007653,
     "end_time": "2023-08-11T15:47:31.169275",
     "exception": false,
     "start_time": "2023-08-11T15:47:31.161622",
     "status": "completed"
    },
    "tags": []
   },
   "source": [
    "# 4. Data Visualization"
   ]
  },
  {
   "cell_type": "code",
   "execution_count": 13,
   "id": "a9c42bf4",
   "metadata": {
    "execution": {
     "iopub.execute_input": "2023-08-11T15:47:31.186812Z",
     "iopub.status.busy": "2023-08-11T15:47:31.186457Z",
     "iopub.status.idle": "2023-08-11T15:47:31.457048Z",
     "shell.execute_reply": "2023-08-11T15:47:31.456265Z"
    },
    "papermill": {
     "duration": 0.282087,
     "end_time": "2023-08-11T15:47:31.459322",
     "exception": false,
     "start_time": "2023-08-11T15:47:31.177235",
     "status": "completed"
    },
    "tags": []
   },
   "outputs": [
    {
     "data": {
      "image/png": "[encoded data removed]",
      "text/plain": [
       "<Figure size 1500x700 with 1 Axes>"
      ]
     },
     "metadata": {},
     "output_type": "display_data"
    }
   ],
   "source": [
    "total_data['Age'].value_counts().plot(kind='bar', color= ['yellow', 'green'],alpha=0.5,figsize=(15,7))\n",
    "plt.show()"
   ]
  },
  {
   "cell_type": "code",
   "execution_count": 14,
   "id": "b61f9811",
   "metadata": {},
   "outputs": [
    {
     "name": "stdout",
     "output_type": "stream",
     "text": [
      "Axes(0.125,0.11;0.775x0.77)\n"
     ]
    },
    {
     "data": {
      "image/png": "[encoded data removed]",
      "text/plain": [
       "<Figure size 640x480 with 1 Axes>"
      ]
     },
     "metadata": {},
     "output_type": "display_data"
    }
   ],
   "source": [
    "print(sns.countplot(data=total_data,x='Rating'))"
   ]
  },
  {
   "cell_type": "code",
   "execution_count": 15,
   "id": "90ed2aa2",
   "metadata": {
    "execution": {
     "iopub.execute_input": "2023-08-11T15:47:31.478649Z",
     "iopub.status.busy": "2023-08-11T15:47:31.477778Z",
     "iopub.status.idle": "2023-08-11T15:47:31.671573Z",
     "shell.execute_reply": "2023-08-11T15:47:31.670026Z"
    },
    "papermill": {
     "duration": 0.206553,
     "end_time": "2023-08-11T15:47:31.674461",
     "exception": false,
     "start_time": "2023-08-11T15:47:31.467908",
     "status": "completed"
    },
    "tags": []
   },
   "outputs": [
    {
     "data": {
      "image/png": "[encoded data removed]",
      "text/plain": [
       "<Figure size 1500x700 with 1 Axes>"
      ]
     },
     "metadata": {},
     "output_type": "display_data"
    }
   ],
   "source": [
    "total_data['Rating'].value_counts().plot(kind='bar', color=['red', 'blue'],alpha=0.5,figsize=(15,7))\n",
    "plt.show()"
   ]
  },
  {
   "cell_type": "code",
   "execution_count": 16,
   "id": "ad0ede61",
   "metadata": {
    "execution": {
     "iopub.execute_input": "2023-08-11T15:47:32.356421Z",
     "iopub.status.busy": "2023-08-11T15:47:32.356039Z",
     "iopub.status.idle": "2023-08-11T15:47:32.778014Z",
     "shell.execute_reply": "2023-08-11T15:47:32.776836Z"
    },
    "papermill": {
     "duration": 0.436,
     "end_time": "2023-08-11T15:47:32.780135",
     "exception": false,
     "start_time": "2023-08-11T15:47:32.344135",
     "status": "completed"
    },
    "tags": []
   },
   "outputs": [
    {
     "data": {
      "image/png": "[encoded data removed]",
      "text/plain": [
       "<Figure size 640x480 with 1 Axes>"
      ]
     },
     "metadata": {},
     "output_type": "display_data"
    }
   ],
   "source": [
    "res = total_data.groupby(\"Title\").size().sort_values(ascending=False)[:25]\n",
    "plt.ylabel(\"Title\")\n",
    "plt.xlabel(\"Viewership Count\")\n",
    "res.plot(kind=\"barh\", color = ['green', 'red', 'blue'])\n",
    "plt.show()"
   ]
  },
  {
   "cell_type": "markdown",
   "id": "e2c65c1c",
   "metadata": {},
   "source": [
    "# 5.splitting the data"
   ]
  },
  {
   "cell_type": "code",
   "execution_count": 17,
   "id": "e0e6b33e",
   "metadata": {
    "execution": {
     "iopub.execute_input": "2023-08-11T15:47:33.33302Z",
     "iopub.status.busy": "2023-08-11T15:47:33.33265Z",
     "iopub.status.idle": "2023-08-11T15:47:33.627356Z",
     "shell.execute_reply": "2023-08-11T15:47:33.625846Z"
    },
    "papermill": {
     "duration": 0.311474,
     "end_time": "2023-08-11T15:47:33.630153",
     "exception": false,
     "start_time": "2023-08-11T15:47:33.318679",
     "status": "completed"
    },
    "tags": []
   },
   "outputs": [
    {
     "name": "stderr",
     "output_type": "stream",
     "text": [
      "C:\\Users\\srira\\AppData\\Local\\Temp\\ipykernel_15560\\285251368.py:3: SettingWithCopyWarning: \n",
      "A value is trying to be set on a copy of a slice from a DataFrame\n",
      "\n",
      "See the caveats in the documentation: https://pandas.pydata.org/pandas-docs/stable/user_guide/indexing.html#returning-a-view-versus-a-copy\n",
      "  first_500.dropna(inplace=True)\n"
     ]
    },
    {
     "data": {
      "text/html": [
       "<div>\n",
       "<style scoped>\n",
       "    .dataframe tbody tr th:only-of-type {\n",
       "        vertical-align: middle;\n",
       "    }\n",
       "\n",
       "    .dataframe tbody tr th {\n",
       "        vertical-align: top;\n",
       "    }\n",
       "\n",
       "    .dataframe thead th {\n",
       "        text-align: right;\n",
       "    }\n",
       "</style>\n",
       "<table border=\"1\" class=\"dataframe\">\n",
       "  <thead>\n",
       "    <tr style=\"text-align: right;\">\n",
       "      <th></th>\n",
       "      <th>MovieID</th>\n",
       "      <th>Title</th>\n",
       "      <th>Genres</th>\n",
       "      <th>UserID</th>\n",
       "      <th>MovieID</th>\n",
       "      <th>Rating</th>\n",
       "      <th>Timestamp</th>\n",
       "      <th>UserID</th>\n",
       "      <th>Gender</th>\n",
       "      <th>Age</th>\n",
       "      <th>Occupation</th>\n",
       "      <th>Zip-code</th>\n",
       "    </tr>\n",
       "  </thead>\n",
       "  <tbody>\n",
       "    <tr>\n",
       "      <th>500</th>\n",
       "      <td>505.0</td>\n",
       "      <td>North (1994)</td>\n",
       "      <td>Comedy</td>\n",
       "      <td>6</td>\n",
       "      <td>17</td>\n",
       "      <td>4</td>\n",
       "      <td>978236383</td>\n",
       "      <td>502.0</td>\n",
       "      <td>M</td>\n",
       "      <td>35.0</td>\n",
       "      <td>6.0</td>\n",
       "      <td>55126</td>\n",
       "    </tr>\n",
       "    <tr>\n",
       "      <th>501</th>\n",
       "      <td>506.0</td>\n",
       "      <td>Orlando (1993)</td>\n",
       "      <td>Drama</td>\n",
       "      <td>6</td>\n",
       "      <td>3699</td>\n",
       "      <td>4</td>\n",
       "      <td>978236567</td>\n",
       "      <td>503.0</td>\n",
       "      <td>M</td>\n",
       "      <td>35.0</td>\n",
       "      <td>11.0</td>\n",
       "      <td>73120</td>\n",
       "    </tr>\n",
       "    <tr>\n",
       "      <th>502</th>\n",
       "      <td>507.0</td>\n",
       "      <td>Perfect World, A (1993)</td>\n",
       "      <td>Action|Drama</td>\n",
       "      <td>6</td>\n",
       "      <td>1441</td>\n",
       "      <td>4</td>\n",
       "      <td>978236383</td>\n",
       "      <td>504.0</td>\n",
       "      <td>M</td>\n",
       "      <td>25.0</td>\n",
       "      <td>2.0</td>\n",
       "      <td>17003</td>\n",
       "    </tr>\n",
       "    <tr>\n",
       "      <th>503</th>\n",
       "      <td>508.0</td>\n",
       "      <td>Philadelphia (1993)</td>\n",
       "      <td>Drama</td>\n",
       "      <td>6</td>\n",
       "      <td>1088</td>\n",
       "      <td>5</td>\n",
       "      <td>978236670</td>\n",
       "      <td>505.0</td>\n",
       "      <td>M</td>\n",
       "      <td>35.0</td>\n",
       "      <td>17.0</td>\n",
       "      <td>37815</td>\n",
       "    </tr>\n",
       "    <tr>\n",
       "      <th>504</th>\n",
       "      <td>509.0</td>\n",
       "      <td>Piano, The (1993)</td>\n",
       "      <td>Drama|Romance</td>\n",
       "      <td>6</td>\n",
       "      <td>912</td>\n",
       "      <td>4</td>\n",
       "      <td>978236122</td>\n",
       "      <td>506.0</td>\n",
       "      <td>M</td>\n",
       "      <td>25.0</td>\n",
       "      <td>16.0</td>\n",
       "      <td>55103-1006</td>\n",
       "    </tr>\n",
       "    <tr>\n",
       "      <th>...</th>\n",
       "      <td>...</td>\n",
       "      <td>...</td>\n",
       "      <td>...</td>\n",
       "      <td>...</td>\n",
       "      <td>...</td>\n",
       "      <td>...</td>\n",
       "      <td>...</td>\n",
       "      <td>...</td>\n",
       "      <td>...</td>\n",
       "      <td>...</td>\n",
       "      <td>...</td>\n",
       "      <td>...</td>\n",
       "    </tr>\n",
       "    <tr>\n",
       "      <th>3877</th>\n",
       "      <td>3948.0</td>\n",
       "      <td>Meet the Parents (2000)</td>\n",
       "      <td>Comedy</td>\n",
       "      <td>28</td>\n",
       "      <td>334</td>\n",
       "      <td>4</td>\n",
       "      <td>978125960</td>\n",
       "      <td>3879.0</td>\n",
       "      <td>M</td>\n",
       "      <td>25.0</td>\n",
       "      <td>3.0</td>\n",
       "      <td>83687</td>\n",
       "    </tr>\n",
       "    <tr>\n",
       "      <th>3878</th>\n",
       "      <td>3949.0</td>\n",
       "      <td>Requiem for a Dream (2000)</td>\n",
       "      <td>Drama</td>\n",
       "      <td>28</td>\n",
       "      <td>266</td>\n",
       "      <td>2</td>\n",
       "      <td>978982323</td>\n",
       "      <td>3880.0</td>\n",
       "      <td>M</td>\n",
       "      <td>25.0</td>\n",
       "      <td>7.0</td>\n",
       "      <td>54942</td>\n",
       "    </tr>\n",
       "    <tr>\n",
       "      <th>3879</th>\n",
       "      <td>3950.0</td>\n",
       "      <td>Tigerland (2000)</td>\n",
       "      <td>Drama</td>\n",
       "      <td>28</td>\n",
       "      <td>2174</td>\n",
       "      <td>3</td>\n",
       "      <td>978126491</td>\n",
       "      <td>3881.0</td>\n",
       "      <td>M</td>\n",
       "      <td>18.0</td>\n",
       "      <td>2.0</td>\n",
       "      <td>44515</td>\n",
       "    </tr>\n",
       "    <tr>\n",
       "      <th>3880</th>\n",
       "      <td>3951.0</td>\n",
       "      <td>Two Family House (2000)</td>\n",
       "      <td>Drama</td>\n",
       "      <td>28</td>\n",
       "      <td>912</td>\n",
       "      <td>5</td>\n",
       "      <td>978985294</td>\n",
       "      <td>3882.0</td>\n",
       "      <td>M</td>\n",
       "      <td>56.0</td>\n",
       "      <td>14.0</td>\n",
       "      <td>55337</td>\n",
       "    </tr>\n",
       "    <tr>\n",
       "      <th>3881</th>\n",
       "      <td>3952.0</td>\n",
       "      <td>Contender, The (2000)</td>\n",
       "      <td>Drama|Thriller</td>\n",
       "      <td>28</td>\n",
       "      <td>2248</td>\n",
       "      <td>4</td>\n",
       "      <td>978126172</td>\n",
       "      <td>3883.0</td>\n",
       "      <td>M</td>\n",
       "      <td>50.0</td>\n",
       "      <td>16.0</td>\n",
       "      <td>78411</td>\n",
       "    </tr>\n",
       "  </tbody>\n",
       "</table>\n",
       "<p>3382 rows × 12 columns</p>\n",
       "</div>"
      ],
      "text/plain": [
       "      MovieID                       Title          Genres  UserID  MovieID  \\\n",
       "500     505.0                North (1994)          Comedy       6       17   \n",
       "501     506.0              Orlando (1993)           Drama       6     3699   \n",
       "502     507.0     Perfect World, A (1993)    Action|Drama       6     1441   \n",
       "503     508.0         Philadelphia (1993)           Drama       6     1088   \n",
       "504     509.0           Piano, The (1993)   Drama|Romance       6      912   \n",
       "...       ...                         ...             ...     ...      ...   \n",
       "3877   3948.0     Meet the Parents (2000)          Comedy      28      334   \n",
       "3878   3949.0  Requiem for a Dream (2000)           Drama      28      266   \n",
       "3879   3950.0            Tigerland (2000)           Drama      28     2174   \n",
       "3880   3951.0     Two Family House (2000)           Drama      28      912   \n",
       "3881   3952.0       Contender, The (2000)  Drama|Thriller      28     2248   \n",
       "\n",
       "      Rating  Timestamp  UserID Gender   Age  Occupation    Zip-code  \n",
       "500        4  978236383   502.0      M  35.0         6.0       55126  \n",
       "501        4  978236567   503.0      M  35.0        11.0       73120  \n",
       "502        4  978236383   504.0      M  25.0         2.0       17003  \n",
       "503        5  978236670   505.0      M  35.0        17.0       37815  \n",
       "504        4  978236122   506.0      M  25.0        16.0  55103-1006  \n",
       "...      ...        ...     ...    ...   ...         ...         ...  \n",
       "3877       4  978125960  3879.0      M  25.0         3.0       83687  \n",
       "3878       2  978982323  3880.0      M  25.0         7.0       54942  \n",
       "3879       3  978126491  3881.0      M  18.0         2.0       44515  \n",
       "3880       5  978985294  3882.0      M  56.0        14.0       55337  \n",
       "3881       4  978126172  3883.0      M  50.0        16.0       78411  \n",
       "\n",
       "[3382 rows x 12 columns]"
      ]
     },
     "execution_count": 17,
     "metadata": {},
     "output_type": "execute_result"
    }
   ],
   "source": [
    "#First 500 extracted records\n",
    "first_500 = total_data[500:]\n",
    "first_500.dropna(inplace=True)\n",
    "first_500"
   ]
  },
  {
   "cell_type": "code",
   "execution_count": 18,
   "id": "d1cb4a14",
   "metadata": {
    "execution": {
     "iopub.execute_input": "2023-08-11T15:47:33.657688Z",
     "iopub.status.busy": "2023-08-11T15:47:33.657313Z",
     "iopub.status.idle": "2023-08-11T15:47:33.670981Z",
     "shell.execute_reply": "2023-08-11T15:47:33.669598Z"
    },
    "papermill": {
     "duration": 0.030444,
     "end_time": "2023-08-11T15:47:33.673679",
     "exception": false,
     "start_time": "2023-08-11T15:47:33.643235",
     "status": "completed"
    },
    "tags": []
   },
   "outputs": [],
   "source": [
    "#Use the following features:movie id,age,occupation\n",
    "x = first_500[['MovieID','Age','Occupation']].values\n",
    "\n",
    "#Use rating as label\n",
    "y = first_500[['Rating']].values"
   ]
  },
  {
   "cell_type": "code",
   "execution_count": 19,
   "id": "789b6313",
   "metadata": {
    "execution": {
     "iopub.execute_input": "2023-08-11T15:47:33.70088Z",
     "iopub.status.busy": "2023-08-11T15:47:33.700429Z",
     "iopub.status.idle": "2023-08-11T15:47:33.83696Z",
     "shell.execute_reply": "2023-08-11T15:47:33.83563Z"
    },
    "papermill": {
     "duration": 0.15312,
     "end_time": "2023-08-11T15:47:33.839649",
     "exception": false,
     "start_time": "2023-08-11T15:47:33.686529",
     "status": "completed"
    },
    "tags": []
   },
   "outputs": [],
   "source": [
    "#Create train and test data set\n",
    "x_train,x_test,y_train,y_test = train_test_split(x,y,test_size=0.33,random_state=42)"
   ]
  },
  {
   "cell_type": "markdown",
   "id": "9e4ffdce",
   "metadata": {},
   "source": [
    "# 6.Building models"
   ]
  },
  {
   "cell_type": "markdown",
   "id": "d51f4cf7",
   "metadata": {},
   "source": [
    "# logistic regression"
   ]
  },
  {
   "cell_type": "code",
   "execution_count": 20,
   "id": "969a257f",
   "metadata": {
    "execution": {
     "iopub.execute_input": "2023-08-11T15:47:33.895049Z",
     "iopub.status.busy": "2023-08-11T15:47:33.892227Z",
     "iopub.status.idle": "2023-08-11T15:47:47.524022Z",
     "shell.execute_reply": "2023-08-11T15:47:47.523134Z"
    },
    "papermill": {
     "duration": 13.64837,
     "end_time": "2023-08-11T15:47:47.526512",
     "exception": false,
     "start_time": "2023-08-11T15:47:33.878142",
     "status": "completed"
    },
    "tags": []
   },
   "outputs": [
    {
     "name": "stderr",
     "output_type": "stream",
     "text": [
      "C:\\Users\\srira\\anaconda3\\Lib\\site-packages\\sklearn\\utils\\validation.py:1184: DataConversionWarning: A column-vector y was passed when a 1d array was expected. Please change the shape of y to (n_samples, ), for example using ravel().\n",
      "  y = column_or_1d(y, warn=True)\n",
      "C:\\Users\\srira\\anaconda3\\Lib\\site-packages\\sklearn\\linear_model\\_logistic.py:460: ConvergenceWarning: lbfgs failed to converge (status=1):\n",
      "STOP: TOTAL NO. of ITERATIONS REACHED LIMIT.\n",
      "\n",
      "Increase the number of iterations (max_iter) or scale the data as shown in:\n",
      "    https://scikit-learn.org/stable/modules/preprocessing.html\n",
      "Please also refer to the documentation for alternative solver options:\n",
      "    https://scikit-learn.org/stable/modules/linear_model.html#logistic-regression\n",
      "  n_iter_i = _check_optimize_result(\n"
     ]
    },
    {
     "data": {
      "text/plain": [
       "0.33818984547461367"
      ]
     },
     "execution_count": 20,
     "metadata": {},
     "output_type": "execute_result"
    }
   ],
   "source": [
    "lr = LogisticRegression()\n",
    "lr.fit(x_train, y_train)\n",
    "Y_pred = lr.predict(x_test)\n",
    "lrAcc = lr.score(x_train, y_train) \n",
    "lrAcc"
   ]
  },
  {
   "cell_type": "code",
   "execution_count": 21,
   "id": "f99aa439",
   "metadata": {},
   "outputs": [
    {
     "name": "stdout",
     "output_type": "stream",
     "text": [
      "              precision    recall  f1-score   support\n",
      "\n",
      "           1       0.00      0.00      0.00        51\n",
      "           2       0.14      0.01      0.02       120\n",
      "           3       0.30      0.32      0.31       313\n",
      "           4       0.38      0.74      0.50       394\n",
      "           5       0.00      0.00      0.00       239\n",
      "\n",
      "    accuracy                           0.35      1117\n",
      "   macro avg       0.16      0.21      0.16      1117\n",
      "weighted avg       0.23      0.35      0.26      1117\n",
      "\n"
     ]
    },
    {
     "name": "stderr",
     "output_type": "stream",
     "text": [
      "C:\\Users\\srira\\anaconda3\\Lib\\site-packages\\sklearn\\metrics\\_classification.py:1469: UndefinedMetricWarning: Precision and F-score are ill-defined and being set to 0.0 in labels with no predicted samples. Use `zero_division` parameter to control this behavior.\n",
      "  _warn_prf(average, modifier, msg_start, len(result))\n",
      "C:\\Users\\srira\\anaconda3\\Lib\\site-packages\\sklearn\\metrics\\_classification.py:1469: UndefinedMetricWarning: Precision and F-score are ill-defined and being set to 0.0 in labels with no predicted samples. Use `zero_division` parameter to control this behavior.\n",
      "  _warn_prf(average, modifier, msg_start, len(result))\n",
      "C:\\Users\\srira\\anaconda3\\Lib\\site-packages\\sklearn\\metrics\\_classification.py:1469: UndefinedMetricWarning: Precision and F-score are ill-defined and being set to 0.0 in labels with no predicted samples. Use `zero_division` parameter to control this behavior.\n",
      "  _warn_prf(average, modifier, msg_start, len(result))\n"
     ]
    }
   ],
   "source": [
    "from sklearn. metrics import classification_report\n",
    "print(classification_report (y_test,Y_pred))"
   ]
  },
  {
   "cell_type": "markdown",
   "id": "3eb0eb12",
   "metadata": {
    "papermill": {
     "duration": 0.022531,
     "end_time": "2023-08-11T15:47:47.575829",
     "exception": false,
     "start_time": "2023-08-11T15:47:47.553298",
     "status": "completed"
    },
    "tags": []
   },
   "source": [
    "# K Nearest Neighbors Classifier"
   ]
  },
  {
   "cell_type": "code",
   "execution_count": 22,
   "id": "cd368552",
   "metadata": {
    "execution": {
     "iopub.execute_input": "2023-08-11T15:47:47.60325Z",
     "iopub.status.busy": "2023-08-11T15:47:47.602925Z",
     "iopub.status.idle": "2023-08-11T15:48:21.255314Z",
     "shell.execute_reply": "2023-08-11T15:48:21.25395Z"
    },
    "papermill": {
     "duration": 33.679365,
     "end_time": "2023-08-11T15:48:21.268213",
     "exception": false,
     "start_time": "2023-08-11T15:47:47.588848",
     "status": "completed"
    },
    "tags": []
   },
   "outputs": [
    {
     "name": "stderr",
     "output_type": "stream",
     "text": [
      "C:\\Users\\srira\\anaconda3\\Lib\\site-packages\\sklearn\\neighbors\\_classification.py:228: DataConversionWarning: A column-vector y was passed when a 1d array was expected. Please change the shape of y to (n_samples,), for example using ravel().\n",
      "  return self._fit(X, y)\n"
     ]
    },
    {
     "data": {
      "text/plain": [
       "60.53"
      ]
     },
     "execution_count": 22,
     "metadata": {},
     "output_type": "execute_result"
    }
   ],
   "source": [
    "knn = KNeighborsClassifier(n_neighbors = 3)\n",
    "knn.fit(x_train, y_train)\n",
    "Y_pred = knn.predict(x_test)\n",
    "knnAcc = round(knn.score(x_train, y_train) * 100, 2)\n",
    "knnAcc"
   ]
  },
  {
   "cell_type": "code",
   "execution_count": 23,
   "id": "3affd1e0",
   "metadata": {},
   "outputs": [
    {
     "name": "stdout",
     "output_type": "stream",
     "text": [
      "              precision    recall  f1-score   support\n",
      "\n",
      "           1       0.04      0.08      0.05        51\n",
      "           2       0.14      0.22      0.17       120\n",
      "           3       0.29      0.33      0.31       313\n",
      "           4       0.41      0.30      0.35       394\n",
      "           5       0.34      0.26      0.30       239\n",
      "\n",
      "    accuracy                           0.28      1117\n",
      "   macro avg       0.24      0.24      0.23      1117\n",
      "weighted avg       0.32      0.28      0.29      1117\n",
      "\n"
     ]
    }
   ],
   "source": [
    "from sklearn. metrics import classification_report\n",
    "print(classification_report (y_test,Y_pred))"
   ]
  },
  {
   "cell_type": "markdown",
   "id": "16c81c5a",
   "metadata": {
    "papermill": {
     "duration": 0.018163,
     "end_time": "2023-08-11T15:48:27.70673",
     "exception": false,
     "start_time": "2023-08-11T15:48:27.688567",
     "status": "completed"
    },
    "tags": []
   },
   "source": [
    "# Decision Tree Classifier"
   ]
  },
  {
   "cell_type": "code",
   "execution_count": 24,
   "id": "c24d3d67",
   "metadata": {
    "execution": {
     "iopub.execute_input": "2023-08-11T15:48:27.738946Z",
     "iopub.status.busy": "2023-08-11T15:48:27.738623Z",
     "iopub.status.idle": "2023-08-11T15:48:32.46668Z",
     "shell.execute_reply": "2023-08-11T15:48:32.465516Z"
    },
    "papermill": {
     "duration": 4.744919,
     "end_time": "2023-08-11T15:48:32.469301",
     "exception": false,
     "start_time": "2023-08-11T15:48:27.724382",
     "status": "completed"
    },
    "tags": []
   },
   "outputs": [
    {
     "data": {
      "text/plain": [
       "1.0"
      ]
     },
     "execution_count": 24,
     "metadata": {},
     "output_type": "execute_result"
    }
   ],
   "source": [
    "dt = DecisionTreeClassifier()\n",
    "dt.fit(x_train, y_train)\n",
    "Y_pred = dt.predict(x_test)\n",
    "dtAcc = dt.score(x_train, y_train)\n",
    "dtAcc"
   ]
  },
  {
   "cell_type": "code",
   "execution_count": 25,
   "id": "fc78e1bc",
   "metadata": {},
   "outputs": [
    {
     "name": "stdout",
     "output_type": "stream",
     "text": [
      "              precision    recall  f1-score   support\n",
      "\n",
      "           1       0.10      0.10      0.10        51\n",
      "           2       0.21      0.21      0.21       120\n",
      "           3       0.31      0.33      0.32       313\n",
      "           4       0.37      0.36      0.37       394\n",
      "           5       0.32      0.32      0.32       239\n",
      "\n",
      "    accuracy                           0.32      1117\n",
      "   macro avg       0.26      0.26      0.26      1117\n",
      "weighted avg       0.32      0.32      0.32      1117\n",
      "\n"
     ]
    }
   ],
   "source": [
    "from sklearn. metrics import classification_report\n",
    "print(classification_report (y_test,Y_pred))"
   ]
  },
  {
   "cell_type": "code",
   "execution_count": null,
   "id": "30cfcf3f",
   "metadata": {},
   "outputs": [],
   "source": []
  },
  {
   "cell_type": "code",
   "execution_count": null,
   "id": "1519adb2",
   "metadata": {},
   "outputs": [],
   "source": []
  },
  {
   "cell_type": "code",
   "execution_count": null,
   "id": "bb64e8fd",
   "metadata": {},
   "outputs": [],
   "source": []
  }
 ],
 "metadata": {
  "kernelspec": {
   "display_name": "Python 3 (ipykernel)",
   "language": "python",
   "name": "python3"
  },
  "language_info": {
   "codemirror_mode": {
    "name": "ipython",
    "version": 3
   },
   "file_extension": ".py",
   "mimetype": "text/x-python",
   "name": "python",
   "nbconvert_exporter": "python",
   "pygments_lexer": "ipython3",
   "version": "3.11.4"
  },
  "papermill": {
   "default_parameters": {},
   "duration": 79.763747,
   "end_time": "2023-08-11T15:48:33.655018",
   "environment_variables": {},
   "exception": null,
   "input_path": "__notebook__.ipynb",
   "output_path": "__notebook__.ipynb",
   "parameters": {},
   "start_time": "2023-08-11T15:47:13.891271",
   "version": "2.4.0"
  }
 },
 "nbformat": 4,
 "nbformat_minor": 5
}
